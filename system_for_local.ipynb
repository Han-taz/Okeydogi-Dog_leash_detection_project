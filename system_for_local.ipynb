{
 "cells": [
  {
   "cell_type": "markdown",
   "id": "99a843f4-d39f-48a8-b220-7ba496659500",
   "metadata": {
    "jp-MarkdownHeadingCollapsed": true,
    "tags": []
   },
   "source": [
    "# Local"
   ]
  },
  {
   "cell_type": "code",
   "execution_count": 1,
   "id": "acfb8e8f-7281-4a00-a10e-69ae4427ac16",
   "metadata": {
    "tags": []
   },
   "outputs": [],
   "source": [
    "#!pip install playsound==1.2.2"
   ]
  },
  {
   "cell_type": "code",
   "execution_count": 117,
   "id": "04cab78c-1b83-4d81-b52e-2f033c8fc277",
   "metadata": {},
   "outputs": [],
   "source": [
    "import cv2\n",
    "import time\n",
    "from playsound import playsound\n",
    "import numpy as np\n",
    "import torch\n",
    "from tensorflow import keras\n",
    "from PIL import Image\n",
    "from keras.applications.resnet_v2 import preprocess_input\n",
    "from datetime import datetime\n",
    "from keras.utils import img_to_array\n",
    "from keras.models import load_model\n",
    "from datetime import datetime"
   ]
  },
  {
   "cell_type": "code",
   "execution_count": 10,
   "id": "d97425a6-c577-497c-9193-3b67a24ea618",
   "metadata": {},
   "outputs": [
    {
     "data": {
      "text/plain": [
       "'C:\\\\Users\\\\user\\\\OneDrive - 고려대학교\\\\Korea univ\\\\okeydogi\\\\project'"
      ]
     },
     "execution_count": 10,
     "metadata": {},
     "output_type": "execute_result"
    }
   ],
   "source": [
    "pwd"
   ]
  },
  {
   "cell_type": "markdown",
   "id": "8f02094d-e94b-4aaa-8559-54ffbf23a684",
   "metadata": {
    "tags": []
   },
   "source": [
    "## Loading models"
   ]
  },
  {
   "cell_type": "code",
   "execution_count": 6,
   "id": "bac145d4-aad6-42fb-a259-8e508772f9ca",
   "metadata": {
    "collapsed": true,
    "jupyter": {
     "outputs_hidden": true
    },
    "tags": []
   },
   "outputs": [
    {
     "name": "stderr",
     "output_type": "stream",
     "text": [
      "Using cache found in C:\\Users\\user/.cache\\torch\\hub\\WongKinYiu_yolov7_main\n",
      "\n",
      "                 from  n    params  module                                  arguments                     \n",
      "  0                -1  1       928  models.common.Conv                      [3, 32, 3, 1]                 \n",
      "  1                -1  1     18560  models.common.Conv                      [32, 64, 3, 2]                \n",
      "  2                -1  1     36992  models.common.Conv                      [64, 64, 3, 1]                \n",
      "  3                -1  1     73984  models.common.Conv                      [64, 128, 3, 2]               \n",
      "  4                -1  1      8320  models.common.Conv                      [128, 64, 1, 1]               \n",
      "  5                -2  1      8320  models.common.Conv                      [128, 64, 1, 1]               \n",
      "  6                -1  1     36992  models.common.Conv                      [64, 64, 3, 1]                \n",
      "  7                -1  1     36992  models.common.Conv                      [64, 64, 3, 1]                \n",
      "  8                -1  1     36992  models.common.Conv                      [64, 64, 3, 1]                \n",
      "  9                -1  1     36992  models.common.Conv                      [64, 64, 3, 1]                \n",
      " 10  [-1, -3, -5, -6]  1         0  models.common.Concat                    [1]                           \n",
      " 11                -1  1     66048  models.common.Conv                      [256, 256, 1, 1]              \n",
      " 12                -1  1         0  models.common.MP                        []                            \n",
      " 13                -1  1     33024  models.common.Conv                      [256, 128, 1, 1]              \n",
      " 14                -3  1     33024  models.common.Conv                      [256, 128, 1, 1]              \n",
      " 15                -1  1    147712  models.common.Conv                      [128, 128, 3, 2]              \n",
      " 16          [-1, -3]  1         0  models.common.Concat                    [1]                           \n",
      " 17                -1  1     33024  models.common.Conv                      [256, 128, 1, 1]              \n",
      " 18                -2  1     33024  models.common.Conv                      [256, 128, 1, 1]              \n",
      " 19                -1  1    147712  models.common.Conv                      [128, 128, 3, 1]              \n",
      " 20                -1  1    147712  models.common.Conv                      [128, 128, 3, 1]              \n",
      " 21                -1  1    147712  models.common.Conv                      [128, 128, 3, 1]              \n",
      " 22                -1  1    147712  models.common.Conv                      [128, 128, 3, 1]              \n",
      " 23  [-1, -3, -5, -6]  1         0  models.common.Concat                    [1]                           \n",
      " 24                -1  1    263168  models.common.Conv                      [512, 512, 1, 1]              \n",
      " 25                -1  1         0  models.common.MP                        []                            \n",
      " 26                -1  1    131584  models.common.Conv                      [512, 256, 1, 1]              \n",
      " 27                -3  1    131584  models.common.Conv                      [512, 256, 1, 1]              \n",
      " 28                -1  1    590336  models.common.Conv                      [256, 256, 3, 2]              \n",
      " 29          [-1, -3]  1         0  models.common.Concat                    [1]                           \n",
      " 30                -1  1    131584  models.common.Conv                      [512, 256, 1, 1]              \n",
      " 31                -2  1    131584  models.common.Conv                      [512, 256, 1, 1]              \n",
      " 32                -1  1    590336  models.common.Conv                      [256, 256, 3, 1]              \n",
      " 33                -1  1    590336  models.common.Conv                      [256, 256, 3, 1]              \n",
      " 34                -1  1    590336  models.common.Conv                      [256, 256, 3, 1]              \n",
      " 35                -1  1    590336  models.common.Conv                      [256, 256, 3, 1]              \n",
      " 36  [-1, -3, -5, -6]  1         0  models.common.Concat                    [1]                           \n",
      " 37                -1  1   1050624  models.common.Conv                      [1024, 1024, 1, 1]            \n",
      " 38                -1  1         0  models.common.MP                        []                            \n",
      " 39                -1  1    525312  models.common.Conv                      [1024, 512, 1, 1]             \n",
      " 40                -3  1    525312  models.common.Conv                      [1024, 512, 1, 1]             \n",
      " 41                -1  1   2360320  models.common.Conv                      [512, 512, 3, 2]              \n",
      " 42          [-1, -3]  1         0  models.common.Concat                    [1]                           \n",
      " 43                -1  1    262656  models.common.Conv                      [1024, 256, 1, 1]             \n",
      " 44                -2  1    262656  models.common.Conv                      [1024, 256, 1, 1]             \n",
      " 45                -1  1    590336  models.common.Conv                      [256, 256, 3, 1]              \n",
      " 46                -1  1    590336  models.common.Conv                      [256, 256, 3, 1]              \n",
      " 47                -1  1    590336  models.common.Conv                      [256, 256, 3, 1]              \n",
      " 48                -1  1    590336  models.common.Conv                      [256, 256, 3, 1]              \n",
      " 49  [-1, -3, -5, -6]  1         0  models.common.Concat                    [1]                           \n",
      " 50                -1  1   1050624  models.common.Conv                      [1024, 1024, 1, 1]            \n",
      " 51                -1  1   7609344  models.common.SPPCSPC                   [1024, 512, 1]                \n",
      " 52                -1  1    131584  models.common.Conv                      [512, 256, 1, 1]              \n",
      " 53                -1  1         0  torch.nn.modules.upsampling.Upsample    [None, 2, 'nearest']          \n",
      " 54                37  1    262656  models.common.Conv                      [1024, 256, 1, 1]             \n",
      " 55          [-1, -2]  1         0  models.common.Concat                    [1]                           \n",
      " 56                -1  1    131584  models.common.Conv                      [512, 256, 1, 1]              \n",
      " 57                -2  1    131584  models.common.Conv                      [512, 256, 1, 1]              \n",
      " 58                -1  1    295168  models.common.Conv                      [256, 128, 3, 1]              \n",
      " 59                -1  1    147712  models.common.Conv                      [128, 128, 3, 1]              \n",
      " 60                -1  1    147712  models.common.Conv                      [128, 128, 3, 1]              \n",
      " 61                -1  1    147712  models.common.Conv                      [128, 128, 3, 1]              \n",
      " 62[-1, -2, -3, -4, -5, -6]  1         0  models.common.Concat                    [1]                           \n",
      " 63                -1  1    262656  models.common.Conv                      [1024, 256, 1, 1]             \n",
      " 64                -1  1     33024  models.common.Conv                      [256, 128, 1, 1]              \n",
      " 65                -1  1         0  torch.nn.modules.upsampling.Upsample    [None, 2, 'nearest']          \n",
      " 66                24  1     65792  models.common.Conv                      [512, 128, 1, 1]              \n",
      " 67          [-1, -2]  1         0  models.common.Concat                    [1]                           \n",
      " 68                -1  1     33024  models.common.Conv                      [256, 128, 1, 1]              \n",
      " 69                -2  1     33024  models.common.Conv                      [256, 128, 1, 1]              \n",
      " 70                -1  1     73856  models.common.Conv                      [128, 64, 3, 1]               \n",
      " 71                -1  1     36992  models.common.Conv                      [64, 64, 3, 1]                \n",
      " 72                -1  1     36992  models.common.Conv                      [64, 64, 3, 1]                \n",
      " 73                -1  1     36992  models.common.Conv                      [64, 64, 3, 1]                \n",
      " 74[-1, -2, -3, -4, -5, -6]  1         0  models.common.Concat                    [1]                           \n",
      " 75                -1  1     65792  models.common.Conv                      [512, 128, 1, 1]              \n",
      " 76                -1  1         0  models.common.MP                        []                            \n",
      " 77                -1  1     16640  models.common.Conv                      [128, 128, 1, 1]              \n",
      " 78                -3  1     16640  models.common.Conv                      [128, 128, 1, 1]              \n",
      " 79                -1  1    147712  models.common.Conv                      [128, 128, 3, 2]              \n",
      " 80      [-1, -3, 63]  1         0  models.common.Concat                    [1]                           \n",
      " 81                -1  1    131584  models.common.Conv                      [512, 256, 1, 1]              \n",
      " 82                -2  1    131584  models.common.Conv                      [512, 256, 1, 1]              \n",
      " 83                -1  1    295168  models.common.Conv                      [256, 128, 3, 1]              \n",
      " 84                -1  1    147712  models.common.Conv                      [128, 128, 3, 1]              \n",
      " 85                -1  1    147712  models.common.Conv                      [128, 128, 3, 1]              \n",
      " 86                -1  1    147712  models.common.Conv                      [128, 128, 3, 1]              \n",
      " 87[-1, -2, -3, -4, -5, -6]  1         0  models.common.Concat                    [1]                           \n",
      " 88                -1  1    262656  models.common.Conv                      [1024, 256, 1, 1]             \n",
      " 89                -1  1         0  models.common.MP                        []                            \n",
      " 90                -1  1     66048  models.common.Conv                      [256, 256, 1, 1]              \n",
      " 91                -3  1     66048  models.common.Conv                      [256, 256, 1, 1]              \n",
      " 92                -1  1    590336  models.common.Conv                      [256, 256, 3, 2]              \n",
      " 93      [-1, -3, 51]  1         0  models.common.Concat                    [1]                           \n",
      " 94                -1  1    525312  models.common.Conv                      [1024, 512, 1, 1]             \n",
      " 95                -2  1    525312  models.common.Conv                      [1024, 512, 1, 1]             \n",
      " 96                -1  1   1180160  models.common.Conv                      [512, 256, 3, 1]              \n",
      " 97                -1  1    590336  models.common.Conv                      [256, 256, 3, 1]              \n",
      " 98                -1  1    590336  models.common.Conv                      [256, 256, 3, 1]              \n",
      " 99                -1  1    590336  models.common.Conv                      [256, 256, 3, 1]              \n",
      "100[-1, -2, -3, -4, -5, -6]  1         0  models.common.Concat                    [1]                           \n",
      "101                -1  1   1049600  models.common.Conv                      [2048, 512, 1, 1]             \n",
      "102                75  1    328704  models.common.RepConv                   [128, 256, 3, 1]              \n",
      "103                88  1   1312768  models.common.RepConv                   [256, 512, 3, 1]              \n",
      "104               101  1   5246976  models.common.RepConv                   [512, 1024, 3, 1]             \n",
      "105   [102, 103, 104]  1    460282  models.yolo.IDetect                     [80, [[12, 16, 19, 36, 40, 28], [36, 75, 76, 55, 72, 146], [142, 110, 192, 243, 459, 401]], [256, 512, 1024]]\n",
      "C:\\Users\\user\\anaconda3\\lib\\site-packages\\torch\\functional.py:504: UserWarning: torch.meshgrid: in an upcoming release, it will be required to pass the indexing argument. (Triggered internally at C:\\actions-runner\\_work\\pytorch\\pytorch\\builder\\windows\\pytorch\\aten\\src\\ATen\\native\\TensorShape.cpp:3191.)\n",
      "  return _VF.meshgrid(tensors, **kwargs)  # type: ignore[attr-defined]\n",
      "Model Summary: 415 layers, 37622682 parameters, 37622682 gradients, 106.5 GFLOPS\n",
      "\n",
      "YOLOR  2023-2-10 torch 1.13.1+cpu CPU\n",
      "\n"
     ]
    },
    {
     "name": "stdout",
     "output_type": "stream",
     "text": [
      "Adding autoShape... \n"
     ]
    }
   ],
   "source": [
    "# YOLO\n",
    "yolo_model = torch.hub.load('WongKinYiu/yolov7','custom','./pt/0213_yolov7_epochs55.pt')"
   ]
  },
  {
   "cell_type": "code",
   "execution_count": 11,
   "id": "f6591047-0a52-4c3f-8c87-cb23391d08d6",
   "metadata": {},
   "outputs": [],
   "source": [
    "# YOLO settings\n",
    "yolo_model.conf=0.6\n",
    "yolo_model.classes=27\n",
    "yolo_model.iou=0.6"
   ]
  },
  {
   "cell_type": "code",
   "execution_count": 14,
   "id": "47029738-d700-4e96-a16c-c9b36fc1f5c8",
   "metadata": {},
   "outputs": [
    {
     "name": "stdout",
     "output_type": "stream",
     "text": [
      "WARNING:tensorflow:No training configuration found in save file, so the model was *not* compiled. Compile it manually.\n"
     ]
    },
    {
     "name": "stderr",
     "output_type": "stream",
     "text": [
      "No training configuration found in save file, so the model was *not* compiled. Compile it manually.\n"
     ]
    }
   ],
   "source": [
    "# CNN\n",
    "new_model = load_model(\"./0217_aug_flip\")\n",
    "idx_to_classes = {0: 'with-leash', 1: 'without-leash'}"
   ]
  },
  {
   "cell_type": "markdown",
   "id": "f5f6f985-eb36-46be-bd1b-257f8646519e",
   "metadata": {
    "tags": []
   },
   "source": [
    "## FUNCTIONS"
   ]
  },
  {
   "cell_type": "code",
   "execution_count": 55,
   "id": "66690ad1-40c7-4284-8dd9-2cb56b3f5838",
   "metadata": {
    "tags": []
   },
   "outputs": [],
   "source": [
    "def pred(img_path,probs=False):\n",
    "    #print('-'*20)\n",
    "    #Image.open(img_path).convert('RGB').resize((224,224)).show()\n",
    "    img = keras.preprocessing.image.load_img(img_path, target_size=(224,224))\n",
    "    array = keras.preprocessing.image.img_to_array(img) #(224,224,3)\n",
    "    array = np.expand_dims(array, axis=0)  #(1, 224, 224, 3)\n",
    "    img_array = preprocess_input(array)\n",
    "    preds = new_model.predict(img_array)\n",
    "    if probs:\n",
    "        print('with vs without :',preds)\n",
    "    return idx_to_classes[np.argmax(preds)]"
   ]
  },
  {
   "cell_type": "code",
   "execution_count": 82,
   "id": "451a7da7-e522-4781-8528-471c459c805f",
   "metadata": {
    "tags": []
   },
   "outputs": [],
   "source": [
    "def system(IMAGE_FILE):\n",
    "    results=yolo_model(IMAGE_FILE)\n",
    "    pos_lists = results.pandas().xyxy\n",
    "    pos_df = pos_lists[0]\n",
    "    dogs=pos_df[['xmin', 'ymin', 'xmax', 'ymax']]\n",
    "    confidences=pos_df['confidence']\n",
    "    for i in range(len(dogs)):\n",
    "        dog=dogs.iloc[i].tolist()\n",
    "        dog=list(map(int,dog))\n",
    "        conf=confidences.iloc[i]\n",
    "        xmin,ymin,xmax,ymax=dog\n",
    "\n",
    "        frame=Image.open(IMAGE_FILE).convert('RGB')\n",
    "        name=IMAGE_FILE.split('.')[1].split('/')[-1]\n",
    "        margin=20\n",
    "        crop=frame.crop((max(xmin-margin,0),max(ymin-margin,0),min(xmax+margin,frame.width),min(ymax+margin,frame.height)))\n",
    "\n",
    "        crop.save(name+'_crop.jpg')\n",
    "        pred(name+'_crop.jpg',probs=True)"
   ]
  },
  {
   "cell_type": "markdown",
   "id": "45e0e5d6-e4b6-4ec0-b288-e21d38c2f5e2",
   "metadata": {
    "jp-MarkdownHeadingCollapsed": true,
    "tags": []
   },
   "source": [
    "## REAL"
   ]
  },
  {
   "cell_type": "code",
   "execution_count": 83,
   "id": "aab291bd-22e8-44ae-ba9b-5b5032bfa8e6",
   "metadata": {},
   "outputs": [
    {
     "name": "stdout",
     "output_type": "stream",
     "text": [
      "1/1 [==============================] - 0s 126ms/step\n",
      "with vs without : [[    0.99954  0.00046251]]\n"
     ]
    }
   ],
   "source": [
    "system('./test_images/jin_with.jpg')"
   ]
  },
  {
   "cell_type": "code",
   "execution_count": 84,
   "id": "f08cc959-2ea8-40fd-9025-f5570f8d9b56",
   "metadata": {},
   "outputs": [
    {
     "name": "stdout",
     "output_type": "stream",
     "text": [
      "1/1 [==============================] - 0s 111ms/step\n",
      "with vs without : [[  0.0082826     0.99172]]\n"
     ]
    }
   ],
   "source": [
    "system('./test_images/jin_without_noclothes.jpg')"
   ]
  },
  {
   "cell_type": "code",
   "execution_count": 85,
   "id": "35cb90e4-83c3-4ffd-afa2-5c7d94904f54",
   "metadata": {},
   "outputs": [
    {
     "name": "stdout",
     "output_type": "stream",
     "text": [
      "1/1 [==============================] - 0s 123ms/step\n",
      "with vs without : [[  0.0010069     0.99899]]\n"
     ]
    }
   ],
   "source": [
    "system('./test_images/jin_without.jpg')"
   ]
  },
  {
   "cell_type": "markdown",
   "id": "344c1529-1b61-4ff4-bf8d-21e2a4a0887b",
   "metadata": {
    "jp-MarkdownHeadingCollapsed": true,
    "tags": []
   },
   "source": [
    "# System ver"
   ]
  },
  {
   "cell_type": "code",
   "execution_count": 8,
   "id": "a9999fa9-a7f1-406b-bb23-a80bec562764",
   "metadata": {},
   "outputs": [],
   "source": [
    "###################### environments #############################\n",
    "import cv2\n",
    "import time\n",
    "from playsound import playsound\n",
    "import numpy as np\n",
    "import torch\n",
    "from tensorflow import keras\n",
    "from PIL import Image\n",
    "from keras.applications.resnet_v2 import preprocess_input\n",
    "from keras.utils import img_to_array\n",
    "from keras.models import load_model\n",
    "from datetime import datetime"
   ]
  },
  {
   "cell_type": "code",
   "execution_count": 9,
   "id": "73d6b495-c4b8-42b6-b37d-361a38e563a9",
   "metadata": {
    "collapsed": true,
    "jupyter": {
     "outputs_hidden": true
    },
    "tags": []
   },
   "outputs": [
    {
     "name": "stdout",
     "output_type": "stream",
     "text": [
      "yolo-start\n"
     ]
    },
    {
     "name": "stderr",
     "output_type": "stream",
     "text": [
      "Using cache found in C:\\Users\\user/.cache\\torch\\hub\\WongKinYiu_yolov7_main\n",
      "\n",
      "                 from  n    params  module                                  arguments                     \n",
      "  0                -1  1       928  models.common.Conv                      [3, 32, 3, 1]                 \n",
      "  1                -1  1     18560  models.common.Conv                      [32, 64, 3, 2]                \n",
      "  2                -1  1     36992  models.common.Conv                      [64, 64, 3, 1]                \n",
      "  3                -1  1     73984  models.common.Conv                      [64, 128, 3, 2]               \n",
      "  4                -1  1      8320  models.common.Conv                      [128, 64, 1, 1]               \n",
      "  5                -2  1      8320  models.common.Conv                      [128, 64, 1, 1]               \n",
      "  6                -1  1     36992  models.common.Conv                      [64, 64, 3, 1]                \n",
      "  7                -1  1     36992  models.common.Conv                      [64, 64, 3, 1]                \n",
      "  8                -1  1     36992  models.common.Conv                      [64, 64, 3, 1]                \n",
      "  9                -1  1     36992  models.common.Conv                      [64, 64, 3, 1]                \n",
      " 10  [-1, -3, -5, -6]  1         0  models.common.Concat                    [1]                           \n",
      " 11                -1  1     66048  models.common.Conv                      [256, 256, 1, 1]              \n",
      " 12                -1  1         0  models.common.MP                        []                            \n",
      " 13                -1  1     33024  models.common.Conv                      [256, 128, 1, 1]              \n",
      " 14                -3  1     33024  models.common.Conv                      [256, 128, 1, 1]              \n",
      " 15                -1  1    147712  models.common.Conv                      [128, 128, 3, 2]              \n",
      " 16          [-1, -3]  1         0  models.common.Concat                    [1]                           \n",
      " 17                -1  1     33024  models.common.Conv                      [256, 128, 1, 1]              \n",
      " 18                -2  1     33024  models.common.Conv                      [256, 128, 1, 1]              \n",
      " 19                -1  1    147712  models.common.Conv                      [128, 128, 3, 1]              \n",
      " 20                -1  1    147712  models.common.Conv                      [128, 128, 3, 1]              \n",
      " 21                -1  1    147712  models.common.Conv                      [128, 128, 3, 1]              \n",
      " 22                -1  1    147712  models.common.Conv                      [128, 128, 3, 1]              \n",
      " 23  [-1, -3, -5, -6]  1         0  models.common.Concat                    [1]                           \n",
      " 24                -1  1    263168  models.common.Conv                      [512, 512, 1, 1]              \n",
      " 25                -1  1         0  models.common.MP                        []                            \n",
      " 26                -1  1    131584  models.common.Conv                      [512, 256, 1, 1]              \n",
      " 27                -3  1    131584  models.common.Conv                      [512, 256, 1, 1]              \n",
      " 28                -1  1    590336  models.common.Conv                      [256, 256, 3, 2]              \n",
      " 29          [-1, -3]  1         0  models.common.Concat                    [1]                           \n",
      " 30                -1  1    131584  models.common.Conv                      [512, 256, 1, 1]              \n",
      " 31                -2  1    131584  models.common.Conv                      [512, 256, 1, 1]              \n",
      " 32                -1  1    590336  models.common.Conv                      [256, 256, 3, 1]              \n",
      " 33                -1  1    590336  models.common.Conv                      [256, 256, 3, 1]              \n",
      " 34                -1  1    590336  models.common.Conv                      [256, 256, 3, 1]              \n",
      " 35                -1  1    590336  models.common.Conv                      [256, 256, 3, 1]              \n",
      " 36  [-1, -3, -5, -6]  1         0  models.common.Concat                    [1]                           \n",
      " 37                -1  1   1050624  models.common.Conv                      [1024, 1024, 1, 1]            \n",
      " 38                -1  1         0  models.common.MP                        []                            \n",
      " 39                -1  1    525312  models.common.Conv                      [1024, 512, 1, 1]             \n",
      " 40                -3  1    525312  models.common.Conv                      [1024, 512, 1, 1]             \n",
      " 41                -1  1   2360320  models.common.Conv                      [512, 512, 3, 2]              \n",
      " 42          [-1, -3]  1         0  models.common.Concat                    [1]                           \n",
      " 43                -1  1    262656  models.common.Conv                      [1024, 256, 1, 1]             \n",
      " 44                -2  1    262656  models.common.Conv                      [1024, 256, 1, 1]             \n",
      " 45                -1  1    590336  models.common.Conv                      [256, 256, 3, 1]              \n",
      " 46                -1  1    590336  models.common.Conv                      [256, 256, 3, 1]              \n",
      " 47                -1  1    590336  models.common.Conv                      [256, 256, 3, 1]              \n",
      " 48                -1  1    590336  models.common.Conv                      [256, 256, 3, 1]              \n",
      " 49  [-1, -3, -5, -6]  1         0  models.common.Concat                    [1]                           \n",
      " 50                -1  1   1050624  models.common.Conv                      [1024, 1024, 1, 1]            \n",
      " 51                -1  1   7609344  models.common.SPPCSPC                   [1024, 512, 1]                \n",
      " 52                -1  1    131584  models.common.Conv                      [512, 256, 1, 1]              \n",
      " 53                -1  1         0  torch.nn.modules.upsampling.Upsample    [None, 2, 'nearest']          \n",
      " 54                37  1    262656  models.common.Conv                      [1024, 256, 1, 1]             \n",
      " 55          [-1, -2]  1         0  models.common.Concat                    [1]                           \n",
      " 56                -1  1    131584  models.common.Conv                      [512, 256, 1, 1]              \n",
      " 57                -2  1    131584  models.common.Conv                      [512, 256, 1, 1]              \n",
      " 58                -1  1    295168  models.common.Conv                      [256, 128, 3, 1]              \n",
      " 59                -1  1    147712  models.common.Conv                      [128, 128, 3, 1]              \n",
      " 60                -1  1    147712  models.common.Conv                      [128, 128, 3, 1]              \n",
      " 61                -1  1    147712  models.common.Conv                      [128, 128, 3, 1]              \n",
      " 62[-1, -2, -3, -4, -5, -6]  1         0  models.common.Concat                    [1]                           \n",
      " 63                -1  1    262656  models.common.Conv                      [1024, 256, 1, 1]             \n",
      " 64                -1  1     33024  models.common.Conv                      [256, 128, 1, 1]              \n",
      " 65                -1  1         0  torch.nn.modules.upsampling.Upsample    [None, 2, 'nearest']          \n",
      " 66                24  1     65792  models.common.Conv                      [512, 128, 1, 1]              \n",
      " 67          [-1, -2]  1         0  models.common.Concat                    [1]                           \n",
      " 68                -1  1     33024  models.common.Conv                      [256, 128, 1, 1]              \n",
      " 69                -2  1     33024  models.common.Conv                      [256, 128, 1, 1]              \n",
      " 70                -1  1     73856  models.common.Conv                      [128, 64, 3, 1]               \n",
      " 71                -1  1     36992  models.common.Conv                      [64, 64, 3, 1]                \n",
      " 72                -1  1     36992  models.common.Conv                      [64, 64, 3, 1]                \n",
      " 73                -1  1     36992  models.common.Conv                      [64, 64, 3, 1]                \n",
      " 74[-1, -2, -3, -4, -5, -6]  1         0  models.common.Concat                    [1]                           \n",
      " 75                -1  1     65792  models.common.Conv                      [512, 128, 1, 1]              \n",
      " 76                -1  1         0  models.common.MP                        []                            \n",
      " 77                -1  1     16640  models.common.Conv                      [128, 128, 1, 1]              \n",
      " 78                -3  1     16640  models.common.Conv                      [128, 128, 1, 1]              \n",
      " 79                -1  1    147712  models.common.Conv                      [128, 128, 3, 2]              \n",
      " 80      [-1, -3, 63]  1         0  models.common.Concat                    [1]                           \n",
      " 81                -1  1    131584  models.common.Conv                      [512, 256, 1, 1]              \n",
      " 82                -2  1    131584  models.common.Conv                      [512, 256, 1, 1]              \n",
      " 83                -1  1    295168  models.common.Conv                      [256, 128, 3, 1]              \n",
      " 84                -1  1    147712  models.common.Conv                      [128, 128, 3, 1]              \n",
      " 85                -1  1    147712  models.common.Conv                      [128, 128, 3, 1]              \n",
      " 86                -1  1    147712  models.common.Conv                      [128, 128, 3, 1]              \n",
      " 87[-1, -2, -3, -4, -5, -6]  1         0  models.common.Concat                    [1]                           \n",
      " 88                -1  1    262656  models.common.Conv                      [1024, 256, 1, 1]             \n",
      " 89                -1  1         0  models.common.MP                        []                            \n",
      " 90                -1  1     66048  models.common.Conv                      [256, 256, 1, 1]              \n",
      " 91                -3  1     66048  models.common.Conv                      [256, 256, 1, 1]              \n",
      " 92                -1  1    590336  models.common.Conv                      [256, 256, 3, 2]              \n",
      " 93      [-1, -3, 51]  1         0  models.common.Concat                    [1]                           \n",
      " 94                -1  1    525312  models.common.Conv                      [1024, 512, 1, 1]             \n",
      " 95                -2  1    525312  models.common.Conv                      [1024, 512, 1, 1]             \n",
      " 96                -1  1   1180160  models.common.Conv                      [512, 256, 3, 1]              \n",
      " 97                -1  1    590336  models.common.Conv                      [256, 256, 3, 1]              \n",
      " 98                -1  1    590336  models.common.Conv                      [256, 256, 3, 1]              \n",
      " 99                -1  1    590336  models.common.Conv                      [256, 256, 3, 1]              \n",
      "100[-1, -2, -3, -4, -5, -6]  1         0  models.common.Concat                    [1]                           \n",
      "101                -1  1   1049600  models.common.Conv                      [2048, 512, 1, 1]             \n",
      "102                75  1    328704  models.common.RepConv                   [128, 256, 3, 1]              \n",
      "103                88  1   1312768  models.common.RepConv                   [256, 512, 3, 1]              \n",
      "104               101  1   5246976  models.common.RepConv                   [512, 1024, 3, 1]             \n",
      "105   [102, 103, 104]  1    460282  models.yolo.IDetect                     [80, [[12, 16, 19, 36, 40, 28], [36, 75, 76, 55, 72, 146], [142, 110, 192, 243, 459, 401]], [256, 512, 1024]]\n",
      "Model Summary: 415 layers, 37622682 parameters, 37622682 gradients, 106.5 GFLOPS\n",
      "\n",
      "YOLOR  2023-2-10 torch 1.13.1+cpu CPU\n",
      "\n"
     ]
    },
    {
     "name": "stdout",
     "output_type": "stream",
     "text": [
      "Adding autoShape... \n"
     ]
    }
   ],
   "source": [
    "################### YOLO model ##########################\n",
    "print('yolo-start')\n",
    "playsound(\"./sound/yolo.wav\")\n",
    "yolo_model = torch.hub.load('WongKinYiu/yolov7','custom','./pt/0213_yolov7_epochs55.pt')\n",
    "yolo_model.conf=0.7 # threshold\n",
    "yolo_model.classes=27\n",
    "yolo_model.iou=0.6"
   ]
  },
  {
   "cell_type": "code",
   "execution_count": 10,
   "id": "8d396627-14d6-4755-9c16-b41ef9b90540",
   "metadata": {},
   "outputs": [
    {
     "name": "stdout",
     "output_type": "stream",
     "text": [
      "cnn-start\n",
      "WARNING:tensorflow:No training configuration found in save file, so the model was *not* compiled. Compile it manually.\n"
     ]
    },
    {
     "name": "stderr",
     "output_type": "stream",
     "text": [
      "No training configuration found in save file, so the model was *not* compiled. Compile it manually.\n"
     ]
    }
   ],
   "source": [
    "################### CNN model ############################\n",
    "print('cnn-start')\n",
    "playsound(\"./sound/cnn.wav\")\n",
    "model = load_model(\"./0217_aug_flip\")\n",
    "idx_to_classes = {0: 'with-leash', 1: 'without-leash'}"
   ]
  },
  {
   "cell_type": "code",
   "execution_count": 14,
   "id": "8c3b800f-f1ab-467e-8253-2df8cb7240c4",
   "metadata": {},
   "outputs": [],
   "source": [
    "def pred(img_path,probs=False):\n",
    "    img = keras.preprocessing.image.load_img(img_path, target_size=(224,224))\n",
    "    array = keras.preprocessing.image.img_to_array(img) #(224,224,3)\n",
    "    array = np.expand_dims(array, axis=0)  #(1, 224, 224, 3)\n",
    "    img_array = preprocess_input(array)\n",
    "    preds = model.predict(img_array)\n",
    "    if probs:\n",
    "        print('with vs without :',preds)\n",
    "    return idx_to_classes[np.argmax(preds)]"
   ]
  },
  {
   "cell_type": "code",
   "execution_count": 15,
   "id": "b727b883-e3aa-4fc0-b54c-813c5a8f7e53",
   "metadata": {},
   "outputs": [],
   "source": [
    "def capture():   \n",
    "    while True:\n",
    "        webcam=cv2.VideoCapture(0)\n",
    "        while True:\n",
    "            ret,frame=webcam.read()\n",
    "            results=yolo_model(frame,size=224)\n",
    "            pos_lists = results.pandas().xyxy\n",
    "            pos_df = pos_lists[0]\n",
    "            dogs=pos_df[['xmin', 'ymin', 'xmax', 'ymax']]\n",
    "            confidences=pos_df['confidence']\n",
    "            if len(dogs)>=1:\n",
    "                break\n",
    "        for i in range(len(dogs)):\n",
    "            dog=dogs.iloc[i].tolist()\n",
    "            dog=list(map(int,dog))\n",
    "            conf=confidences.iloc[i]\n",
    "            \n",
    "            now=datetime.now()\n",
    "            name = now.strftime('%y%m%d%H%M%S') + '.jpg'\n",
    "            xmin,ymin,xmax,ymax=dog\n",
    "            margin=20\n",
    "            height=frame.shape[0]\n",
    "            width=frame.shape[1]\n",
    "            cv2.imwrite(name,frame[max(ymin-margin,0):min(ymax+margin,height),max(xmin-margin,0):min(xmax+margin,width),:])\n",
    "            ret=pred(name,probs=True)\n",
    "            if(ret=='without-leash'):\n",
    "                playsound('./sound/alert_final.wav')\n",
    "        webcam.release()\n",
    "        time.sleep(1)\n",
    "    webcam.release()"
   ]
  },
  {
   "cell_type": "code",
   "execution_count": 16,
   "id": "6e9cc25a-9762-47a6-9420-689770b3e205",
   "metadata": {
    "collapsed": true,
    "jupyter": {
     "outputs_hidden": true
    },
    "tags": []
   },
   "outputs": [
    {
     "name": "stdout",
     "output_type": "stream",
     "text": [
      "1/1 [==============================] - 1s 1s/step\n",
      "with vs without : [[    0.22484     0.77516]]\n",
      "1/1 [==============================] - 0s 115ms/step\n",
      "with vs without : [[    0.69059     0.30941]]\n",
      "1/1 [==============================] - 0s 114ms/step\n",
      "with vs without : [[    0.90799    0.092013]]\n",
      "1/1 [==============================] - 0s 119ms/step\n",
      "with vs without : [[     0.8935      0.1065]]\n",
      "1/1 [==============================] - 0s 120ms/step\n",
      "with vs without : [[    0.83069     0.16931]]\n",
      "1/1 [==============================] - 0s 115ms/step\n",
      "with vs without : [[ 1.9393e-05     0.99998]]\n",
      "1/1 [==============================] - 0s 116ms/step\n",
      "with vs without : [[ 1.2806e-05     0.99999]]\n",
      "1/1 [==============================] - 0s 123ms/step\n",
      "with vs without : [[ 2.1446e-05     0.99998]]\n",
      "1/1 [==============================] - 0s 112ms/step\n",
      "with vs without : [[    0.71365     0.28635]]\n",
      "1/1 [==============================] - 0s 114ms/step\n",
      "with vs without : [[    0.99973  0.00027496]]\n",
      "1/1 [==============================] - 0s 111ms/step\n",
      "with vs without : [[    0.99953  0.00046878]]\n",
      "1/1 [==============================] - 0s 123ms/step\n",
      "with vs without : [[    0.99902  0.00097693]]\n",
      "1/1 [==============================] - 0s 121ms/step\n",
      "with vs without : [[    0.99999  1.1233e-05]]\n",
      "1/1 [==============================] - 0s 116ms/step\n",
      "with vs without : [[    0.99998  1.5557e-05]]\n",
      "1/1 [==============================] - 0s 122ms/step\n",
      "with vs without : [[    0.99979  0.00021409]]\n",
      "1/1 [==============================] - 0s 118ms/step\n",
      "with vs without : [[    0.99986  0.00013906]]\n",
      "1/1 [==============================] - 0s 116ms/step\n",
      "with vs without : [[    0.99998  1.5767e-05]]\n",
      "1/1 [==============================] - 0s 124ms/step\n",
      "with vs without : [[  0.0014592     0.99854]]\n",
      "1/1 [==============================] - 0s 120ms/step\n",
      "with vs without : [[ 0.00038541     0.99961]]\n",
      "1/1 [==============================] - 0s 116ms/step\n",
      "with vs without : [[   0.062052     0.93795]]\n",
      "1/1 [==============================] - 0s 112ms/step\n",
      "with vs without : [[  0.0040616     0.99594]]\n",
      "1/1 [==============================] - 0s 135ms/step\n",
      "with vs without : [[ 5.6485e-05     0.99994]]\n",
      "1/1 [==============================] - 0s 116ms/step\n",
      "with vs without : [[ 0.00010575     0.99989]]\n",
      "1/1 [==============================] - 0s 112ms/step\n",
      "with vs without : [[  0.0012396     0.99876]]\n",
      "1/1 [==============================] - 0s 118ms/step\n",
      "with vs without : [[    0.88939     0.11061]]\n",
      "1/1 [==============================] - 0s 115ms/step\n",
      "with vs without : [[ 0.00020444      0.9998]]\n",
      "1/1 [==============================] - 0s 121ms/step\n",
      "with vs without : [[    0.96274    0.037259]]\n"
     ]
    },
    {
     "ename": "KeyboardInterrupt",
     "evalue": "",
     "output_type": "error",
     "traceback": [
      "\u001b[1;31m---------------------------------------------------------------------------\u001b[0m",
      "\u001b[1;31mKeyboardInterrupt\u001b[0m                         Traceback (most recent call last)",
      "Input \u001b[1;32mIn [16]\u001b[0m, in \u001b[0;36m<cell line: 2>\u001b[1;34m()\u001b[0m\n\u001b[0;32m      1\u001b[0m playsound(\u001b[38;5;124m\"\u001b[39m\u001b[38;5;124m./sound/execute.wav\u001b[39m\u001b[38;5;124m\"\u001b[39m)\n\u001b[1;32m----> 2\u001b[0m \u001b[43mcapture\u001b[49m\u001b[43m(\u001b[49m\u001b[43m)\u001b[49m\n",
      "Input \u001b[1;32mIn [15]\u001b[0m, in \u001b[0;36mcapture\u001b[1;34m()\u001b[0m\n\u001b[0;32m      3\u001b[0m webcam\u001b[38;5;241m=\u001b[39mcv2\u001b[38;5;241m.\u001b[39mVideoCapture(\u001b[38;5;241m0\u001b[39m)\n\u001b[0;32m      4\u001b[0m \u001b[38;5;28;01mwhile\u001b[39;00m \u001b[38;5;28;01mTrue\u001b[39;00m:\n\u001b[1;32m----> 5\u001b[0m     ret,frame\u001b[38;5;241m=\u001b[39m\u001b[43mwebcam\u001b[49m\u001b[38;5;241;43m.\u001b[39;49m\u001b[43mread\u001b[49m\u001b[43m(\u001b[49m\u001b[43m)\u001b[49m\n\u001b[0;32m      6\u001b[0m     results\u001b[38;5;241m=\u001b[39myolo_model(frame,size\u001b[38;5;241m=\u001b[39m\u001b[38;5;241m224\u001b[39m)\n\u001b[0;32m      7\u001b[0m     pos_lists \u001b[38;5;241m=\u001b[39m results\u001b[38;5;241m.\u001b[39mpandas()\u001b[38;5;241m.\u001b[39mxyxy\n",
      "\u001b[1;31mKeyboardInterrupt\u001b[0m: "
     ]
    }
   ],
   "source": [
    "playsound(\"./sound/execute.wav\")\n",
    "capture()"
   ]
  },
  {
   "cell_type": "code",
   "execution_count": null,
   "id": "294f512f-544e-4471-9628-5caf6483aeb7",
   "metadata": {},
   "outputs": [],
   "source": []
  }
 ],
 "metadata": {
  "kernelspec": {
   "display_name": "Python 3 (ipykernel)",
   "language": "python",
   "name": "python3"
  },
  "language_info": {
   "codemirror_mode": {
    "name": "ipython",
    "version": 3
   },
   "file_extension": ".py",
   "mimetype": "text/x-python",
   "name": "python",
   "nbconvert_exporter": "python",
   "pygments_lexer": "ipython3",
   "version": "3.9.12"
  }
 },
 "nbformat": 4,
 "nbformat_minor": 5
}
